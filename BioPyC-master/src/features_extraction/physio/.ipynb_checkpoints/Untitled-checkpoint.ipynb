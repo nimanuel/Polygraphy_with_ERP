{
 "cells": [
  {
   "cell_type": "code",
   "execution_count": 1,
   "metadata": {},
   "outputs": [],
   "source": [
    "%reload_ext autoreload\n",
    "%autoreload 2\n",
    "\n",
    "#from raw_gdf import raw_gdf\n",
    "import matplotlib.pyplot as plt\n",
    "import mne\n",
    "\n",
    "import pandas as pd\n",
    "import numpy as np\n",
    "import neurokit as nk\n",
    "import biosppy \n",
    "import scipy.stats as stats\n",
    "\n",
    "import time as t \n",
    "\n",
    "from heart_rate import heart_rate\n",
    "from breathing import breathing\n",
    "from eda import eda\n"
   ]
  },
  {
   "cell_type": "code",
   "execution_count": 2,
   "metadata": {
    "scrolled": false
   },
   "outputs": [
    {
     "name": "stdout",
     "output_type": "stream",
     "text": [
      "Extracting edf Parameters from ../../../data_store/rawdata_datasets/curiosity/subject_1/record-ID1_S1_R1.gdf...\n",
      "GDF file detected\n",
      "Overlapping events detected. Use find_edf_events for the original events.\n",
      "Setting channel info structure...\n",
      "Interpolating stim channel. Events may jitter.\n",
      "Created Raw.info structure...\n",
      "Reading 0 ... 684159  =      0.000 ...  1336.248 secs...\n"
     ]
    },
    {
     "name": "stderr",
     "output_type": "stream",
     "text": [
      "<ipython-input-2-9a56bdf72c2c>:15: RuntimeWarning: Overlapping events detected. Use find_edf_events for the original events.\n",
      "  raw = mne.io.read_raw_edf(input_fname=file,  preload=True)\n",
      "<ipython-input-2-9a56bdf72c2c>:15: RuntimeWarning: Interpolating stim channel. Events may jitter.\n",
      "  raw = mne.io.read_raw_edf(input_fname=file,  preload=True)\n"
     ]
    },
    {
     "name": "stdout",
     "output_type": "stream",
     "text": [
      "Ready.\n"
     ]
    },
    {
     "name": "stderr",
     "output_type": "stream",
     "text": [
      "/home/aurelien/.local/lib/python3.5/site-packages/neurokit/signal/complexity.py:502: FutureWarning: `rcond` parameter will change to the default of machine precision times ``max(M, N)`` where M and N are the input matrix dimensions.\n",
      "To use the future default and silence this warning we advise to pass `rcond=None`, to keep using the old, explicitly pass `rcond=-1`.\n",
      "  (p, r1, r2, s)=np.linalg.lstsq(x, L)\n"
     ]
    },
    {
     "name": "stdout",
     "output_type": "stream",
     "text": [
      "Hr :42\n",
      "42\n",
      "eda :54\n",
      "100\n",
      "breathing45\n",
      "133\n",
      "49.12351942062378\n"
     ]
    }
   ],
   "source": [
    "\n",
    "\n",
    "\n",
    "list_files_to_load =['../../../data_store/rawdata_datasets/curiosity/subject_1/record-ID1_S1_R1.gdf']\n",
    "#[ \"gdf/subject_1/record-ID1_S1_R1.gdf\"]\n",
    "list_raw_files = []\n",
    "\n",
    "\n",
    "start = t.time()\n",
    "\n",
    "\n",
    "\n",
    "for file in list_files_to_load:\n",
    "            # Reading files, labeling \"kind\" of EOG electrodes as 202 (\"kind\" of EEG electrods = 2, \"kind\" of STIM = 3)\n",
    "            raw = mne.io.read_raw_edf(input_fname=file,  preload=True)\n",
    "            list_raw_files.append(raw)\n",
    "\n",
    "raw.drop_channels(raw.ch_names[:63])\n",
    "\n",
    "raw.crop(200,420)\n",
    "\n",
    "# Heart Rate\n",
    "data,time= raw.get_data(picks=[3],return_times= True)\n",
    "data= data[0]\n",
    "\n",
    "hr_raw= heart_rate(data,time)\n",
    "hr_raw.hearth_rate_variability()\n",
    "\n",
    "print(len(hr_raw.features))\n",
    "\n",
    "\n",
    "# EDA\n",
    "data,time= raw.get_data(picks=[2],return_times= True)\n",
    "data= data[0]\n",
    "eda_= eda(data,time)\n",
    "eda_.process()\n",
    "print(len(eda_.features))\n",
    "\n",
    "\n",
    "# Breathing\n",
    "data,time= raw.get_data(picks=[0],return_times= True)\n",
    "data= data[0]\n",
    "\n",
    "rsp_raw= breathing(data,time)\n",
    "rsp_raw.get_features()\n",
    "print(len(rsp_raw.features))\n",
    "\n",
    "end = t.time()\n",
    "print(end - start)"
   ]
  },
  {
   "cell_type": "code",
   "execution_count": null,
   "metadata": {},
   "outputs": [],
   "source": []
  }
 ],
 "metadata": {
  "kernelspec": {
   "display_name": "Python 3",
   "language": "python",
   "name": "python3"
  },
  "language_info": {
   "codemirror_mode": {
    "name": "ipython",
    "version": 3
   },
   "file_extension": ".py",
   "mimetype": "text/x-python",
   "name": "python",
   "nbconvert_exporter": "python",
   "pygments_lexer": "ipython3",
   "version": "3.5.2"
  }
 },
 "nbformat": 4,
 "nbformat_minor": 2
}
