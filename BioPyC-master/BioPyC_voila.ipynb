{
 "cells": [
  {
   "cell_type": "markdown",
   "metadata": {},
   "source": [
    "# __BioPyC__\n",
    "\n",
    "## An  open-source  python  platform  for  offline EEG and Bio signals decoding and analysis !\n",
    "\n",
    "This application enables users to easily go through the following steps : \n",
    "- __Reading__ EEG and physiological signals (.gdf, .mat, .fiff)\n",
    "- __Filtering__ the signals (CSP, FBCSP, etc)\n",
    "- __Classifying__ the signals (LDA, NN, Riemannian Geometry methods)\n",
    "- __Evaluating__ the algorithms by obtaining classification performances, for a given data set (ROC, CV, etc)\n",
    "- __Visualizing__ classification performances\n",
    "- __Statistical testing__ classification performances\n",
    "\n",
    "BioPyC offers a unique interface to quickly create ML models and compare both EEG and physiological signals-based classifiers without any coding. "
   ]
  },
  {
   "cell_type": "markdown",
   "metadata": {},
   "source": [
    "## <font color = orange> 1 - Load the application</font>\n",
    "Loading BioPyC application..."
   ]
  },
  {
   "cell_type": "code",
   "execution_count": 1,
   "metadata": {},
   "outputs": [],
   "source": [
    "%reload_ext autoreload\n",
    "%autoreload 2\n",
    "\n",
    "from application import application\n",
    "from src.graphic_user_interface.jupyter_widgets.study_parameters import study_parameters\n",
    "\n",
    "# Call objects containing methods for \n",
    "study_parameters_object = study_parameters()\n",
    "\n",
    "new_application = application()\n",
    "\n",
    "# Initializing widgets that will be display at each step of BioPyC\n",
    "\n",
    "# Signals type (EEG, physio or EEG+physio)\n",
    "from src.graphic_user_interface.jupyter_widgets.specific_parameters.signals_type import signals_type\n",
    "signals_type_object = signals_type()\n",
    "\n",
    "# Data type (raw data or preprocessed data)\n",
    "from src.graphic_user_interface.jupyter_widgets.specific_parameters.data_type import data_type\n",
    "data_type_object = data_type()\n",
    "\n",
    "# Dataset (Ex: BCI_competition_4_dataset_a)\n",
    "from src.graphic_user_interface.jupyter_widgets.specific_parameters.dataset import dataset\n",
    "dataset_object = dataset()\n",
    "\n",
    "# Preprocessing parameters (run(s), session(s), list of channels, tmin, tmax, stimulations, etc)\n",
    "from src.graphic_user_interface.jupyter_widgets.specific_parameters.preprocessing_parameters import preprocessing_parameters\n",
    "preprocessing_parameters_object = preprocessing_parameters()\n",
    "\n",
    "# Preprocessed data parameters (band-pass delimiters)\n",
    "from src.graphic_user_interface.jupyter_widgets.specific_parameters.preprocessed_parameters import preprocessed_parameters\n",
    "preprocessed_parameters_object = preprocessed_parameters()\n",
    "\n",
    "# Filters (CSP, FBCSP)\n",
    "from src.graphic_user_interface.jupyter_widgets.specific_parameters.filters import filters\n",
    "filters_object = filters()\n",
    "\n",
    "# Classifiers (Riemmanian methods, CNN, LDA)\n",
    "from src.graphic_user_interface.jupyter_widgets.specific_parameters.classifiers import classifiers\n",
    "classifiers_object = classifiers()\n",
    "\n",
    "# Calibration type ('subject-independent', 'subject_specific')\n",
    "from src.graphic_user_interface.jupyter_widgets.specific_parameters.calibration_type import calibration_type\n",
    "calibration_type_object = calibration_type()\n",
    "\n",
    "# Evaluation type ('classic', 'cross-validation')\n",
    "from src.graphic_user_interface.jupyter_widgets.specific_parameters.evaluation_type import evaluation_type\n",
    "evaluation_type_object = evaluation_type()\n",
    "\n",
    "# Evaluation parameters\n",
    "from src.graphic_user_interface.jupyter_widgets.specific_parameters.evaluation_parameters import evaluation_parameters\n",
    "evaluation_parameters_object = evaluation_parameters()\n",
    "evaluation_parameters_object.parameter_type = 'cross-validation_type' # kfold or loo\n",
    "\n",
    "evaluation_parameters_object_2 = evaluation_parameters()\n",
    "evaluation_parameters_object_2.parameter_type = 'type_split' # chronological or shuffle\n",
    "\n",
    "evaluation_parameters_object_3 = evaluation_parameters()\n",
    "#evaluation_parameters_object_3.parameter_type = 'training_split_ratio'\n",
    "#evaluation_parameters_object_3.parameter_type_2 = 'nb_kfold'\n",
    "\n",
    "# Plotting type\n",
    "from src.graphic_user_interface.jupyter_widgets.specific_parameters.plot_type import plot_type\n",
    "plotting_parameters_object = plot_type()\n",
    "\n",
    "# Statistical tests \n",
    "from src.graphic_user_interface.jupyter_widgets.specific_parameters.stats_type import stats_type\n",
    "stats_parameters_object = stats_type()\n"
   ]
  },
  {
   "cell_type": "markdown",
   "metadata": {},
   "source": [
    "... BioPyC is loaded ! \n",
    "\n",
    "BioPyC initialized all parameters that will then be updated by following the different steps of the BCI process bellow, i.e., reading data, pre-processing, signals processing & classification, performing data visualization and statistical tests."
   ]
  },
  {
   "cell_type": "markdown",
   "metadata": {},
   "source": [
    "## <font color = orange> 2 - Type of data/signals</font>\n",
    "\n",
    "__A - Signals types__\n",
    "\n",
    "Choose the type of data you would like to work on:\n",
    "- __EEG signals__ this option will lead to study signals with algorithms for EEG signals\n",
    "- __physiological signals__ this option will lead to study signals with algorithms for physiological signals (Heart Rate, breathing or Electrodermal Activity)\n",
    "- __EEG and physiological signals__ this option will lead to study a combination of both EEG and physiological signals with algorithms made for it"
   ]
  },
  {
   "cell_type": "code",
   "execution_count": 2,
   "metadata": {},
   "outputs": [
    {
     "data": {
      "application/vnd.jupyter.widget-view+json": {
       "model_id": "31ba2c2d2ace4d56b79ed151293bb74b",
       "version_major": 2,
       "version_minor": 0
      },
      "text/plain": [
       "VBox(children=(HBox(children=(Label(value='Signals types', layout=Layout(height='50px', width='25%')), SelectM…"
      ]
     },
     "metadata": {},
     "output_type": "display_data"
    },
    {
     "data": {
      "application/vnd.jupyter.widget-view+json": {
       "model_id": "c879067234814ccba231721d8d39c80f",
       "version_major": 2,
       "version_minor": 0
      },
      "text/plain": [
       "Button(button_style='info', description='Select this signals type', layout=Layout(height='40px', width='50%'),…"
      ]
     },
     "metadata": {},
     "output_type": "display_data"
    },
    {
     "data": {
      "application/vnd.jupyter.widget-view+json": {
       "model_id": "7b7125ab1ccd4fafa36d1899dec539d1",
       "version_major": 2,
       "version_minor": 0
      },
      "text/plain": [
       "Label(value='')"
      ]
     },
     "metadata": {},
     "output_type": "display_data"
    }
   ],
   "source": [
    "# Load the widgets for choosing the signals type, updates data type widgets when button is clicked\n",
    "signals_type_object.display_widgets(study_parameters_object=study_parameters_object, \n",
    "                                    data_type_object=data_type_object)"
   ]
  },
  {
   "cell_type": "markdown",
   "metadata": {},
   "source": [
    "__B - Data types__\n",
    "\n",
    "Choose the type of data you would like to work on:\n",
    "- __raw data__ data that need to be pre-processed (=bandpassing, artifacts cleaning, epoching, etc) before to apply any algorithms on it.   \n",
    "Your data set should be stored in \"BioPyC/data_store/rawdata_datasets/\"\n",
    "- __preprocessed data__  data that have been preprocessed and saved as is. \n",
    "Your data set should be stored in \"BioPyC/data_store/preprocessed_datasets/\""
   ]
  },
  {
   "cell_type": "code",
   "execution_count": 3,
   "metadata": {},
   "outputs": [
    {
     "data": {
      "application/vnd.jupyter.widget-view+json": {
       "model_id": "c5321469a4f443b182a0e0a51c18e22f",
       "version_major": 2,
       "version_minor": 0
      },
      "text/plain": [
       "VBox(children=(HBox(children=(Label(value='Data types', layout=Layout(height='60px', width='25%')), SelectMult…"
      ]
     },
     "metadata": {},
     "output_type": "display_data"
    },
    {
     "data": {
      "application/vnd.jupyter.widget-view+json": {
       "model_id": "f0c1d3cb1eb14b3685b246afe402acb0",
       "version_major": 2,
       "version_minor": 0
      },
      "text/plain": [
       "Button(button_style='warning', description='Unavailable', disabled=True, layout=Layout(height='40px', width='5…"
      ]
     },
     "metadata": {},
     "output_type": "display_data"
    },
    {
     "data": {
      "application/vnd.jupyter.widget-view+json": {
       "model_id": "c44556c8e6aa428ea0f8a8614cbbdc23",
       "version_major": 2,
       "version_minor": 0
      },
      "text/plain": [
       "Label(value='')"
      ]
     },
     "metadata": {},
     "output_type": "display_data"
    }
   ],
   "source": [
    "# Load the widgets for choosing the data type\n",
    "data_type_object.display_widgets(study_parameters_object = study_parameters_object,\n",
    "                                dataset_object=dataset_object)"
   ]
  },
  {
   "cell_type": "markdown",
   "metadata": {},
   "source": [
    "## <font color = orange> 3 - Reading the dataset</font>\n",
    "\n",
    "#### Choose the dataset\n",
    "This first step allows you to read data from a folder you previously slipped into the data store. You will find your folder by running the code below. \n",
    "\n",
    "The architecture of this folder has to be the following :\n",
    "- __folder name__: name of your study. For example, if you want to analyze the \"BCI competition IV dataset a\", call it \"bci_competition_4_dataset_a\"\n",
    "<br /><br />\n",
    "- __subfolders names__: names of the subjects. Ex : \"subject_1\", \"subject_2\", etc\n",
    "<br /><br />\n",
    "- __files__: each subfolder, corresponding to each subject data, contains all files for this subject, each file being the data band passed in a particular frequency band. Ex : data band passed in a [8,12] Hz frequency band. \n",
    "\n",
    "Finally we have this tree structure : __example - data_store/EEG_data/raw_data/bci_competition_IV_dataset_a/subject_1/[8,12].mat__  \n",
    "\n",
    "*NB If .mat format: we consider that the matlab structure header starts by \"EEG\". Feel free to change it /src/data/data_readers/mat.py*"
   ]
  },
  {
   "cell_type": "code",
   "execution_count": 4,
   "metadata": {},
   "outputs": [
    {
     "data": {
      "application/vnd.jupyter.widget-view+json": {
       "model_id": "c08d7197d9524c57abb7bd2ae259e95d",
       "version_major": 2,
       "version_minor": 0
      },
      "text/plain": [
       "VBox(children=(HBox(children=(Label(value='Datasets', layout=Layout(height='60px', width='25%')), SelectMultip…"
      ]
     },
     "metadata": {},
     "output_type": "display_data"
    },
    {
     "data": {
      "application/vnd.jupyter.widget-view+json": {
       "model_id": "6a7bf3e2ef0e469cabe7f1a540d2709f",
       "version_major": 2,
       "version_minor": 0
      },
      "text/plain": [
       "Button(button_style='warning', description='Unavailable', disabled=True, layout=Layout(height='40px', width='5…"
      ]
     },
     "metadata": {},
     "output_type": "display_data"
    },
    {
     "data": {
      "application/vnd.jupyter.widget-view+json": {
       "model_id": "0d80ee156d4f43be9dd08259b97d9bf1",
       "version_major": 2,
       "version_minor": 0
      },
      "text/plain": [
       "Label(value='')"
      ]
     },
     "metadata": {},
     "output_type": "display_data"
    }
   ],
   "source": [
    "# Load the widgets for choosing the dataset\n",
    "dataset_object.display_widgets(study_parameters_object=study_parameters_object,\n",
    "                              list_available_datasets=data_type_object.list_available_datasets,\n",
    "                              preprocessing_parameters_object=preprocessing_parameters_object,\n",
    "                              preprocessed_parameters_object=preprocessed_parameters_object)"
   ]
  },
  {
   "cell_type": "markdown",
   "metadata": {},
   "source": [
    "## <font color = orange> 4 - Define Parameters</font>\n",
    "\n",
    "#### A - Raw data: pre-processing parameters \n",
    "\n",
    "If your dataset contains raw signals, you have to specify some parameters for the pre-processing. \n",
    "<br /><br />\n",
    "\n",
    "* __list of subjects to keep__: list containing integers of the subjects you wan to keep (Ex: [2, 3, 7])\n",
    "<br /><br />\n",
    "\n",
    "* __list of sessions__: list containing integers of the sessions (Ex: [1, 2]).  <font color = red>Have to be specified in each file name.</font>\n",
    "<br /><br />\n",
    "\n",
    "* __list of runs__: list containing integers of the runs (Ex: [1,2,3,4]).  <font color = red>Have to be specified in each file name.</font>\n",
    "<br /><br />\n",
    "\n",
    "* __specify labeling__: boolean, if True, this means you have to implement a script to labelize your data, and place this python script in the folder \"src/utils/specific_studies_labeling/\" and name it after your data set. Note that you have to keep the same structure as for the two exemple you gave (curiosity.py and bci_competition_4_dataset_2a.py).<br /> \n",
    "\n",
    "    * _Exemple: for a data set called \"bci_competition_4_dataset_2a\" then call your script \"bci_competition_4_dataset_2a.py\"._\n",
    "<br /><br />\n",
    "\n",
    "* __dictionary of \"labels: stimulations\"__: where the keys are the labels and the values the associated stimulations\n",
    "<br /><br />\n",
    "\n",
    "* __t min__: dictionary with windows' starting times for each type of signals, can be before/after the stimulation (Ex: -2.5 for 2,5 sec before stimulation) <br /> \n",
    "    * _Exemple 1: tmin = {'breathing': -10.0, 'eda': -10.0, 'heart_rate': -10.0, 'eeg': -4.0} (if working with all 4 types of signals)_\n",
    "    * _Exemple 2: tmin = {'eeg': 0.5} (if working with EEG singals only)_\n",
    "<br /><br />\n",
    "\n",
    "* __t max__: dictionary with windows' stopping times for each type of signals, can be before/after the stimulation (Ex: 0.5 for 0,5 sec after stimulation).\n",
    "    * _Exemple 1: tmax = {'breathing': 4.0, 'eda': 4.0, 'heart_rate': 4.0, 'EEG': -0.1} (if working with all 4 types of signals)_\n",
    "    * _Exemple 2: tmax = {'EEG': 2.5} (if working with EEG singals only)_\n",
    "<br /><br />\n",
    "\n",
    "* __dictionary of signal types / list of channels__: where th key is the type of signals, and the value the list of channels associated with. Note that only one channel must be indicated in the list for each type of physiological signals you want to use.\n",
    "    * _Exemple 1: {'EEG': ['Fp1', 'Fz', 'F3', 'F7', 'FT9']}_\n",
    "    * _Exemple 2: {'breathing': ['Channel 65'], 'eda': ['Channel 67'], 'heart_rate\": ['Channel 68'], 'EEG': ['Fp1', 'Fz', 'F3', 'F7', 'FT9']}_\n",
    "<br /><br />\n",
    "\n",
    "* __list of EOG channels__: list of EOG channels ['eog_1', 'eog_2', etc]\n",
    "<br /><br />\n",
    "\n",
    "* __list of channels to drop__: list of channels to drop ['unnamed_1', 'unnamed_2', etc]\n"
   ]
  },
  {
   "cell_type": "code",
   "execution_count": 5,
   "metadata": {},
   "outputs": [
    {
     "data": {
      "application/vnd.jupyter.widget-view+json": {
       "model_id": "40c9027a127142b08810448c79e5ca18",
       "version_major": 2,
       "version_minor": 0
      },
      "text/plain": [
       "VBox(children=(HBox(children=(Label(value='List of subjects to keep', layout=Layout(height='40px', width='25%'…"
      ]
     },
     "metadata": {},
     "output_type": "display_data"
    },
    {
     "data": {
      "application/vnd.jupyter.widget-view+json": {
       "model_id": "faa2c374214c4df2a0e53b87cdb37198",
       "version_major": 2,
       "version_minor": 0
      },
      "text/plain": [
       "Button(button_style='warning', description='Unavailable', disabled=True, layout=Layout(height='40px', width='5…"
      ]
     },
     "metadata": {},
     "output_type": "display_data"
    },
    {
     "data": {
      "application/vnd.jupyter.widget-view+json": {
       "model_id": "3f73224278ff47cb916982d35d38a7f5",
       "version_major": 2,
       "version_minor": 0
      },
      "text/plain": [
       "Label(value='')"
      ]
     },
     "metadata": {},
     "output_type": "display_data"
    }
   ],
   "source": [
    "# Load the widgets for choosing the preprocessing parameters\n",
    "preprocessing_parameters_object.display_widgets(study_parameters_object=study_parameters_object,\n",
    "                                                classifiers_object=classifiers_object,\n",
    "                                                filters_object=filters_object)"
   ]
  },
  {
   "cell_type": "markdown",
   "metadata": {},
   "source": [
    "#### B - Preprocessed data: identifying parameters in files names\n",
    "\n",
    "If your dataset contains pre-processed signals, you have to specify in which passband(s) the signals have been filtered. \n",
    "*NB there are no lists of run(s)/session(s), files from different run/session should have been concatenated during the preprocessing step.*\n",
    "- __passband delimiter__: list of string characters that delimit limit figures of the bandpass. (Ex: ['\\_','to','Hz'] to indicate the 8-12 bandpass for the file like 'subj1_8to8Hz.mat') "
   ]
  },
  {
   "cell_type": "code",
   "execution_count": 6,
   "metadata": {},
   "outputs": [
    {
     "data": {
      "application/vnd.jupyter.widget-view+json": {
       "model_id": "e7a2935cc3a14dd6883e52ccc30f34ba",
       "version_major": 2,
       "version_minor": 0
      },
      "text/plain": [
       "VBox(children=(HBox(children=(Label(value='Band-pass delimiters', layout=Layout(height='40px', width='25%')), …"
      ]
     },
     "metadata": {},
     "output_type": "display_data"
    },
    {
     "data": {
      "application/vnd.jupyter.widget-view+json": {
       "model_id": "f9e501a674754e0d8d7596f5a531c7fc",
       "version_major": 2,
       "version_minor": 0
      },
      "text/plain": [
       "Button(button_style='warning', description='Unavailable', disabled=True, layout=Layout(height='40px', width='5…"
      ]
     },
     "metadata": {},
     "output_type": "display_data"
    },
    {
     "data": {
      "application/vnd.jupyter.widget-view+json": {
       "model_id": "03b29eccdfef4f53b579dc146de16cd8",
       "version_major": 2,
       "version_minor": 0
      },
      "text/plain": [
       "Label(value='')"
      ]
     },
     "metadata": {},
     "output_type": "display_data"
    }
   ],
   "source": [
    "# Load the widgets for choosing the preprocessed data parameters\n",
    "preprocessed_parameters_object.display_widgets(study_parameters_object=study_parameters_object,\n",
    "                                              classifiers_object=classifiers_object,\n",
    "                                               filters_object=filters_object)"
   ]
  },
  {
   "cell_type": "markdown",
   "metadata": {},
   "source": [
    "## <font color = orange> 5 - Filtering signals</font>\n",
    "\n",
    "This step is <font color = red>__optional__</font>.\n",
    "\n",
    "First, the application looks to the \"filters\" folder of the BioPyC toolbox to list the implemented filters. \n",
    "\n",
    "\n",
    "*NB: Using your own filter is possible by placing your script into the BioPyC's \"filters\" folder, on condition your script follows BioPyC's formalism* \n",
    "<br /><br />\n",
    "\n",
    "- __Available filters:__ so far, the Common Spatial Pattern (CSP)  and the Filter Bank CSP (FBCSP) are implemented and available. \n",
    "<br /><br />\n",
    "\n",
    "- __CSP number of filter pairs:__ For the CSP, a single passband is used (see the next section, i.e. the classifier section, to choose this passband). Among the pairs of filters, you need to choose the number of filter pairs you wan to keep (usually this number is 3, meaning extracting 3 pairs of filter, i.e., 6 features). \n",
    "<br /><br />\n",
    "\n",
    "- __FBCSP number of filter pairs:__ For the FBCSP, multiple passbands are used (see the classifier section as well). It requires to choose the number of pairs of filters to select per band pass.\n",
    "<br /><br />\n",
    "\n",
    "- __FBCSP number of features to keep:__ then to choose the number of features to keep among the different pass bands. Note that these features are selected using the mRMR feature selection algorithm.\n"
   ]
  },
  {
   "cell_type": "code",
   "execution_count": 7,
   "metadata": {},
   "outputs": [
    {
     "data": {
      "application/vnd.jupyter.widget-view+json": {
       "model_id": "7df08e3ae5a1483c92e292dedbad68c6",
       "version_major": 2,
       "version_minor": 0
      },
      "text/plain": [
       "VBox(children=(HBox(children=(Label(value='Available filters', layout=Layout(height='60px', width='25%')), Sel…"
      ]
     },
     "metadata": {},
     "output_type": "display_data"
    },
    {
     "data": {
      "application/vnd.jupyter.widget-view+json": {
       "model_id": "be02d5b7e16f4f6e8f3d8ed197ef0d44",
       "version_major": 2,
       "version_minor": 0
      },
      "text/plain": [
       "VBox(children=(HBox(children=(Label(value='CSP number of filter pairs', layout=Layout(height='40px', width='25…"
      ]
     },
     "metadata": {},
     "output_type": "display_data"
    },
    {
     "data": {
      "application/vnd.jupyter.widget-view+json": {
       "model_id": "952c4c420fc943caa931bf7ef3094a9f",
       "version_major": 2,
       "version_minor": 0
      },
      "text/plain": [
       "VBox(children=(HBox(children=(Label(value='FBCSP number of filter pairs per band-pass', layout=Layout(height='…"
      ]
     },
     "metadata": {},
     "output_type": "display_data"
    },
    {
     "data": {
      "application/vnd.jupyter.widget-view+json": {
       "model_id": "86f5f606e29c4c4583dafc7e677090fd",
       "version_major": 2,
       "version_minor": 0
      },
      "text/plain": [
       "VBox(children=(HBox(children=(Label(value='FBCSP number of features to keep', layout=Layout(height='40px', wid…"
      ]
     },
     "metadata": {},
     "output_type": "display_data"
    },
    {
     "data": {
      "application/vnd.jupyter.widget-view+json": {
       "model_id": "ba0068a78a674047b3f1cf5f029635b3",
       "version_major": 2,
       "version_minor": 0
      },
      "text/plain": [
       "Button(button_style='warning', description='Unavailable', disabled=True, layout=Layout(height='40px', width='5…"
      ]
     },
     "metadata": {},
     "output_type": "display_data"
    },
    {
     "data": {
      "application/vnd.jupyter.widget-view+json": {
       "model_id": "9a6d42e77c9240b39274fe9db0db82ee",
       "version_major": 2,
       "version_minor": 0
      },
      "text/plain": [
       "Label(value='')"
      ]
     },
     "metadata": {},
     "output_type": "display_data"
    }
   ],
   "source": [
    "# Load the widgets for choosing the filters\n",
    "filters_object.display_widgets(study_parameters_object=study_parameters_object)"
   ]
  },
  {
   "cell_type": "markdown",
   "metadata": {},
   "source": [
    "## <font color = orange> 6 - Classifying signals</font>\n",
    "The application looks to the \"classifiers\" repository of BioPyC, in order to list the implemented classifiers. These classifiers are then displayed on the interface.  \n",
    "\n",
    "*NB: Using your own classifier is possible by placing your script into the BioPyC's \"classifiers\" folder"
   ]
  },
  {
   "cell_type": "code",
   "execution_count": 8,
   "metadata": {},
   "outputs": [
    {
     "data": {
      "application/vnd.jupyter.widget-view+json": {
       "model_id": "1f0fdb70fbf14d93b612260563b899ee",
       "version_major": 2,
       "version_minor": 0
      },
      "text/plain": [
       "VBox(children=(HBox(children=(Label(value='Available classifiers', layout=Layout(height='60px', width='25%')),…"
      ]
     },
     "metadata": {},
     "output_type": "display_data"
    },
    {
     "data": {
      "application/vnd.jupyter.widget-view+json": {
       "model_id": "54e4df51b5cd491689afd0d8ffcae12a",
       "version_major": 2,
       "version_minor": 0
      },
      "text/plain": [
       "VBox(children=(HBox(children=(Label(value='Filter Bank Riemmanian Methods number features to keep', layout=Lay…"
      ]
     },
     "metadata": {},
     "output_type": "display_data"
    },
    {
     "data": {
      "application/vnd.jupyter.widget-view+json": {
       "model_id": "8c15f468268e4b11b142032f58d971a8",
       "version_major": 2,
       "version_minor": 0
      },
      "text/plain": [
       "VBox(children=(HBox(children=(Label(value='Single pass-band', layout=Layout(height='40px', width='25%')), Text…"
      ]
     },
     "metadata": {},
     "output_type": "display_data"
    },
    {
     "data": {
      "application/vnd.jupyter.widget-view+json": {
       "model_id": "d13b4948c16440b49883efcb5a61f3cd",
       "version_major": 2,
       "version_minor": 0
      },
      "text/plain": [
       "VBox(children=(HBox(children=(Label(value='Filter Bank pass-bands', layout=Layout(height='40px', width='25%'))…"
      ]
     },
     "metadata": {},
     "output_type": "display_data"
    },
    {
     "data": {
      "application/vnd.jupyter.widget-view+json": {
       "model_id": "7c37b5f2e4e94845886688b8f971e769",
       "version_major": 2,
       "version_minor": 0
      },
      "text/plain": [
       "Button(button_style='warning', description='Unavailable', disabled=True, layout=Layout(height='40px', width='5…"
      ]
     },
     "metadata": {},
     "output_type": "display_data"
    },
    {
     "data": {
      "application/vnd.jupyter.widget-view+json": {
       "model_id": "d71c8d18dbdc4fee805d1b76d992b614",
       "version_major": 2,
       "version_minor": 0
      },
      "text/plain": [
       "Label(value='')"
      ]
     },
     "metadata": {},
     "output_type": "display_data"
    }
   ],
   "source": [
    "# Load the widgets for choosing the classifiers\n",
    "classifiers_object.display_widgets(study_parameters_object=study_parameters_object,\n",
    "                                  calibration_type_object=calibration_type_object)"
   ]
  },
  {
   "cell_type": "markdown",
   "metadata": {},
   "source": [
    "## <font color = orange> 7 - Calibration & Evaluation</font>\n",
    "\n",
    "__A - Calibration type__\n",
    "\n",
    "BioPyC offers to run different types of calibration for studying data:\n",
    "\n",
    "- __subject-specific study__: first, data specific to each subject are split into two parts: the training and testing sets. Then, machine learning algorithms are trained on the first set, then evaluated on the second one. \n",
    "<br /><br />\n",
    "\n",
    "- __subject-independent study__: in BioPyC, the method for this type of calibration is a leave-one-subject-out cross validation, i.e. it requires to build a machine learning model for each subject, where the training phase uses all other subjects data, and the testing phase uses the target subject data only. \n",
    "\n",
    "You can either choose one or both of these calibrations. \n",
    "<br /><br />\n",
    "\n",
    "__B - Evaluation type__\n",
    "\n",
    "BioPyC offers to run different types of evaluation for studying data:\n",
    "\n",
    "- __classic__: the data set is split into two subdatasets - one will be used as training set, the other one as testing set. This evaluation method requires to enter a \"split ratio\" in the \"Evaluation parameter\" section coming next. This Split ratio must be a float between 0.0 and 1.0 (Ex: 0.8 to keep 80% of the data as training set, and 20% of that data as testing set.)\n",
    "<br /><br />\n",
    "\n",
    "- __cross-validation__: the data from each participant is divided into n parts: n-1 parts are used for training the classifier and the last one for testing classifier for that participant. This process is repeated n times, with each part used exactly once as the testing set. \n"
   ]
  },
  {
   "cell_type": "code",
   "execution_count": 9,
   "metadata": {},
   "outputs": [
    {
     "data": {
      "application/vnd.jupyter.widget-view+json": {
       "model_id": "86a769bc1a234ac3a8081c706b18836d",
       "version_major": 2,
       "version_minor": 0
      },
      "text/plain": [
       "VBox(children=(HBox(children=(Label(value='Calibration types', layout=Layout(height='60px', width='25%')), Sel…"
      ]
     },
     "metadata": {},
     "output_type": "display_data"
    },
    {
     "data": {
      "application/vnd.jupyter.widget-view+json": {
       "model_id": "23a171291000447193494e6a308c4c9b",
       "version_major": 2,
       "version_minor": 0
      },
      "text/plain": [
       "Button(button_style='warning', description='Unavailable', disabled=True, layout=Layout(height='40px', width='5…"
      ]
     },
     "metadata": {},
     "output_type": "display_data"
    },
    {
     "data": {
      "application/vnd.jupyter.widget-view+json": {
       "model_id": "19e2d192471a4e8db6b4fb2095db78e9",
       "version_major": 2,
       "version_minor": 0
      },
      "text/plain": [
       "Label(value='')"
      ]
     },
     "metadata": {},
     "output_type": "display_data"
    }
   ],
   "source": [
    "# Load the widgets for choosing the the calibration type\n",
    "calibration_type_object.display_widgets(study_parameters_object=study_parameters_object,\n",
    "                                       evaluation_type_object=evaluation_type_object)"
   ]
  },
  {
   "cell_type": "code",
   "execution_count": 10,
   "metadata": {},
   "outputs": [
    {
     "data": {
      "application/vnd.jupyter.widget-view+json": {
       "model_id": "c8a24d0fd210492ba8c7325723ea99d5",
       "version_major": 2,
       "version_minor": 0
      },
      "text/plain": [
       "VBox(children=(HBox(children=(Label(value='Evaluation types', layout=Layout(height='60px', width='25%')), Sele…"
      ]
     },
     "metadata": {},
     "output_type": "display_data"
    },
    {
     "data": {
      "application/vnd.jupyter.widget-view+json": {
       "model_id": "5e34d51fb7ac4ea0bbcb8f43796a52be",
       "version_major": 2,
       "version_minor": 0
      },
      "text/plain": [
       "Button(button_style='warning', description='Unavailable', disabled=True, layout=Layout(height='40px', width='5…"
      ]
     },
     "metadata": {},
     "output_type": "display_data"
    },
    {
     "data": {
      "application/vnd.jupyter.widget-view+json": {
       "model_id": "e25ceed5bacc45efa4042a2ff8c83f7f",
       "version_major": 2,
       "version_minor": 0
      },
      "text/plain": [
       "Label(value='')"
      ]
     },
     "metadata": {},
     "output_type": "display_data"
    }
   ],
   "source": [
    "# Load the widgets for choosing the the evaluation type\n",
    "evaluation_type_object.display_widgets(study_parameters_object=study_parameters_object,\n",
    "                                       evaluation_parameters_object=evaluation_parameters_object,\n",
    "                                       evaluation_parameters_object_2=evaluation_parameters_object_2,\n",
    "                                       evaluation_parameters_object_3=evaluation_parameters_object_3)"
   ]
  },
  {
   "cell_type": "code",
   "execution_count": 11,
   "metadata": {
    "scrolled": false
   },
   "outputs": [
    {
     "data": {
      "application/vnd.jupyter.widget-view+json": {
       "model_id": "080dcc21309c46df9a1636e200d75227",
       "version_major": 2,
       "version_minor": 0
      },
      "text/plain": [
       "VBox(children=(HBox(children=(Label(value='Evaluation Parameters', layout=Layout(height='60px', width='25%')),…"
      ]
     },
     "metadata": {},
     "output_type": "display_data"
    },
    {
     "data": {
      "application/vnd.jupyter.widget-view+json": {
       "model_id": "345c2b23e7a1415f9f6dd300a1cd8471",
       "version_major": 2,
       "version_minor": 0
      },
      "text/plain": [
       "Button(button_style='warning', description='Unavailable', disabled=True, layout=Layout(height='40px', width='5…"
      ]
     },
     "metadata": {},
     "output_type": "display_data"
    },
    {
     "data": {
      "application/vnd.jupyter.widget-view+json": {
       "model_id": "009f6201a8504145bfb0240825b626e2",
       "version_major": 2,
       "version_minor": 0
      },
      "text/plain": [
       "Label(value='')"
      ]
     },
     "metadata": {},
     "output_type": "display_data"
    },
    {
     "data": {
      "application/vnd.jupyter.widget-view+json": {
       "model_id": "9cea4ad6e40b44afad786bd2f41a3ade",
       "version_major": 2,
       "version_minor": 0
      },
      "text/plain": [
       "VBox(children=(HBox(children=(Label(value='Evaluation Parameters', layout=Layout(height='60px', width='25%')),…"
      ]
     },
     "metadata": {},
     "output_type": "display_data"
    },
    {
     "data": {
      "application/vnd.jupyter.widget-view+json": {
       "model_id": "c55ec1f46c02432fa81c5f4a1117d811",
       "version_major": 2,
       "version_minor": 0
      },
      "text/plain": [
       "Button(button_style='warning', description='Unavailable', disabled=True, layout=Layout(height='40px', width='5…"
      ]
     },
     "metadata": {},
     "output_type": "display_data"
    },
    {
     "data": {
      "application/vnd.jupyter.widget-view+json": {
       "model_id": "7790dd3771364682854bc0a60eee9a41",
       "version_major": 2,
       "version_minor": 0
      },
      "text/plain": [
       "Label(value='')"
      ]
     },
     "metadata": {},
     "output_type": "display_data"
    },
    {
     "data": {
      "application/vnd.jupyter.widget-view+json": {
       "model_id": "dc9354b0d9794d5da5ff562d028e866b",
       "version_major": 2,
       "version_minor": 0
      },
      "text/plain": [
       "VBox(children=(HBox(children=(Label(value='Evaluation Parameters', layout=Layout(height='40px', width='25%')),…"
      ]
     },
     "metadata": {},
     "output_type": "display_data"
    },
    {
     "data": {
      "application/vnd.jupyter.widget-view+json": {
       "model_id": "ff2ac454f28e41ec96707113dcda92e0",
       "version_major": 2,
       "version_minor": 0
      },
      "text/plain": [
       "Button(button_style='warning', description='Unavailable', disabled=True, layout=Layout(height='40px', width='5…"
      ]
     },
     "metadata": {},
     "output_type": "display_data"
    },
    {
     "data": {
      "application/vnd.jupyter.widget-view+json": {
       "model_id": "f1fb2ba6120c46ed84d81792aa772fc0",
       "version_major": 2,
       "version_minor": 0
      },
      "text/plain": [
       "Label(value='')"
      ]
     },
     "metadata": {},
     "output_type": "display_data"
    }
   ],
   "source": [
    "\n",
    "\n",
    "evaluation_parameters_object.display_widgets(widget_type='select_multiple',\n",
    "                                             study_parameters_object=study_parameters_object,\n",
    "                                             evaluation_parameters_object_2=evaluation_parameters_object_2,\n",
    "                                             evaluation_parameters_object_3=evaluation_parameters_object_3)\n",
    "\n",
    "evaluation_parameters_object_2.display_widgets(widget_type='select_multiple',\n",
    "                                               study_parameters_object=study_parameters_object,\n",
    "                                               evaluation_parameters_object_2=evaluation_parameters_object_2,\n",
    "                                               evaluation_parameters_object_3=evaluation_parameters_object_3)\n",
    "\n",
    "evaluation_parameters_object_3.display_widgets(widget_type='textbox',\n",
    "                                               study_parameters_object=study_parameters_object,\n",
    "                                               evaluation_parameters_object_2=evaluation_parameters_object_2,\n",
    "                                               evaluation_parameters_object_3=evaluation_parameters_object_3)\n",
    "\n"
   ]
  },
  {
   "cell_type": "code",
   "execution_count": 12,
   "metadata": {},
   "outputs": [
    {
     "data": {
      "application/vnd.jupyter.widget-view+json": {
       "model_id": "2920b23b5eda47198be69042112bf577",
       "version_major": 2,
       "version_minor": 0
      },
      "text/plain": [
       "VBox(children=(HBox(children=(Label(value='Available plottings', layout=Layout(height='60px', width='25%')), S…"
      ]
     },
     "metadata": {},
     "output_type": "display_data"
    },
    {
     "data": {
      "application/vnd.jupyter.widget-view+json": {
       "model_id": "9f4a71e3abdf4fdfafba7eeb38a6df20",
       "version_major": 2,
       "version_minor": 0
      },
      "text/plain": [
       "Button(button_style='warning', description='Unavailable', disabled=True, layout=Layout(height='40px', width='5…"
      ]
     },
     "metadata": {},
     "output_type": "display_data"
    },
    {
     "data": {
      "application/vnd.jupyter.widget-view+json": {
       "model_id": "0a20361295b045dcbb11d054c280f92f",
       "version_major": 2,
       "version_minor": 0
      },
      "text/plain": [
       "Label(value='')"
      ]
     },
     "metadata": {},
     "output_type": "display_data"
    }
   ],
   "source": [
    "plotting_parameters_object.display_widgets(study_parameters_object=study_parameters_object)"
   ]
  },
  {
   "cell_type": "code",
   "execution_count": 13,
   "metadata": {},
   "outputs": [
    {
     "data": {
      "application/vnd.jupyter.widget-view+json": {
       "model_id": "55fbe49d0a61433d954fffb204047870",
       "version_major": 2,
       "version_minor": 0
      },
      "text/plain": [
       "VBox(children=(HBox(children=(Label(value='Available statistical tests', layout=Layout(height='60px', width='2…"
      ]
     },
     "metadata": {},
     "output_type": "display_data"
    },
    {
     "data": {
      "application/vnd.jupyter.widget-view+json": {
       "model_id": "a8f3567e9db74de0b349ffdbbed9d17f",
       "version_major": 2,
       "version_minor": 0
      },
      "text/plain": [
       "Button(button_style='warning', description='Unavailable', disabled=True, layout=Layout(height='40px', width='5…"
      ]
     },
     "metadata": {},
     "output_type": "display_data"
    },
    {
     "data": {
      "application/vnd.jupyter.widget-view+json": {
       "model_id": "85a8b7722b384bc3bd52895fd6d3e660",
       "version_major": 2,
       "version_minor": 0
      },
      "text/plain": [
       "Label(value='')"
      ]
     },
     "metadata": {},
     "output_type": "display_data"
    }
   ],
   "source": [
    "stats_parameters_object.display_widgets(study_parameters_object=study_parameters_object)"
   ]
  },
  {
   "cell_type": "markdown",
   "metadata": {},
   "source": [
    "## Run the application"
   ]
  },
  {
   "cell_type": "code",
   "execution_count": 14,
   "metadata": {
    "scrolled": false
   },
   "outputs": [
    {
     "data": {
      "application/vnd.jupyter.widget-view+json": {
       "model_id": "ed24afd9796d42788edfbe5ec3a2e372",
       "version_major": 2,
       "version_minor": 0
      },
      "text/plain": [
       "Button(button_style='success', description='Run the study !', layout=Layout(height='40px', width='50%'), style…"
      ]
     },
     "metadata": {},
     "output_type": "display_data"
    },
    {
     "data": {
      "application/vnd.jupyter.widget-view+json": {
       "model_id": "8c40d4a3b756430b92141c19b83d2860",
       "version_major": 2,
       "version_minor": 0
      },
      "text/plain": [
       "Output(layout=Layout(border='2px solid black'))"
      ]
     },
     "metadata": {},
     "output_type": "display_data"
    }
   ],
   "source": [
    "\n",
    "def print_summary_parameters():\n",
    "    \n",
    "    print('--------  SUMMARY PARAMETERS   -------- ')\n",
    "    print('application directory: ', study_parameters_object.application_directory)\n",
    "\n",
    "    print('Calibration type: ', study_parameters_object.calibration_type)\n",
    "\n",
    "    # Study sub types\n",
    "    print('Cross validation type: ', study_parameters_object.cross_val_type )\n",
    "    print('Type split: ', study_parameters_object.type_split)\n",
    "    print('training split ratio: ', study_parameters_object.training_split_ratio ) # split ratio for the training set (Ex: 0.8 for keeping 80% of the data for the training set)\n",
    "    print('nb kfold: ', study_parameters_object.kfold)\n",
    "\n",
    "    # Dataset\n",
    "    # === global parameters ===\n",
    "    print('dataset format : ', study_parameters_object.dataset_format ) # the format of the dataset, i.e. .mat, .gdf etc\n",
    "    print('signals type: ', study_parameters_object.signals_type)# EGG physio or EEG+physio\n",
    "    print('data type: ', study_parameters_object.data_type) # 'raw' or 'preprocessed'\n",
    "    print('dataset: ', study_parameters_object.dataset) # (Ex: 'bci_competition_4_dataset_2a')\n",
    "    # self.passband = [] # set of passbands data should be filtered into\n",
    "    print('passband repository: ', study_parameters_object.passband_repository) # set of passbands data should be filtered into\n",
    "\n",
    "    # === preprocessed data === (no list of runs/session, should have been concatenated during the preprocessing)\n",
    "    print('passband delimiters: ', study_parameters_object.passband_delimiters) # string characters that delimit limit figures of the bandpass\n",
    "\n",
    "    # === raw data === (meaning those are parameters for the preprocessing)\n",
    "    print('specify labeling: ', study_parameters_object.specify_labeling )  # Meaning you have to implement a script to labelize your data\n",
    "    print('list subjects to keep : ', study_parameters_object.list_subjects_to_keep ) # list containing strings of the subjects (Ex: ['subject_1', 'subject_2'])\n",
    "    print('list sessions: ', study_parameters_object.list_sessions ) # list containing integers of the sessions (Ex: [1,2])\n",
    "    print('list runs: ', study_parameters_object.list_runs ) # list containing integers of the runs (Ex: [1,2,3,4])\n",
    "    print('dictionary stimulations: ', study_parameters_object.dictionary_stimulations ) # (Ex: {'right':1, 'left':2})\n",
    "    print('tmin: ', study_parameters_object.tmin ) # start time window signal, can before/after the stimulation (Ex: 2.5 for 2,5 sec after stimulation)\n",
    "    print('tmax: ', study_parameters_object.tmax)# stop time window signal, can before/after the stimulation (Ex: -1.0 for 1 sec before the stimulation)\n",
    "    print('list all channels: ', study_parameters_object.list_all_channels) # list of channels ['channel_1', 'channels_2', etc]\n",
    "    print('list eog: ', study_parameters_object.list_eog )# list EOGs ['eog_1', 'eog_2', etc]\n",
    "    print('list channels to drop: ', study_parameters_object.list_channels_to_drop) # list of channels ['unnamed_1', 'unnamed_2', etc]\n",
    "\n",
    "    # Algorithm\n",
    "    # ==== type ====\n",
    "    print('list filters : ', study_parameters_object.list_filters)\n",
    "    print('list classifiers: ', study_parameters_object.list_classifiers)\n",
    "    # ==== hyper-parameters ====\n",
    "    print('filter parameters: ', study_parameters_object.filter_parameter )\n",
    "    print('classifier parameters: ', study_parameters_object.classifier_parameter)\n",
    "\n",
    "    # Results\n",
    "    # ==== Evaluation ====\n",
    "    print('Evaluation type: ', study_parameters_object.evaluation_type)  # 'classic' or 'cross_validation'\n",
    "    # ==== Analysis to make ====\n",
    "    print('list statistical tests: ', study_parameters_object.list_statistical_tests)\n",
    "    print('list plots: ', study_parameters_object.list_plots)\n",
    "    # ==== Saving path for results dataframe ====\n",
    "    print('results filename : ', study_parameters_object.results_filename)\n",
    "\n",
    "\n",
    "    print('----------------------------------------')\n",
    "    \n",
    "    print('')\n",
    "    print('')\n",
    "    \n",
    "    \n",
    "import ipywidgets as widgets\n",
    "button_ = widgets.Button(description='Run the study !',\n",
    "                                 button_style='success',\n",
    "                                 disabled=False,\n",
    "                                 layout=widgets.Layout(width='50%',\n",
    "                                                       height='40px'))\n",
    "\n",
    "display(button_)\n",
    "\n",
    "out = widgets.Output(layout={'border': '2px solid black'})\n",
    "display(out)\n",
    "\n",
    "def click_run_study(b):\n",
    "    \n",
    "    with out:\n",
    "        print_summary_parameters()\n",
    "        new_application.run_study(studies_parameters=study_parameters_object, b=b)\n",
    "\n",
    "button_.on_click(click_run_study)\n",
    "\n"
   ]
  },
  {
   "cell_type": "code",
   "execution_count": null,
   "metadata": {},
   "outputs": [],
   "source": []
  },
  {
   "cell_type": "code",
   "execution_count": null,
   "metadata": {},
   "outputs": [],
   "source": []
  }
 ],
 "metadata": {
  "kernelspec": {
   "display_name": "Python 3",
   "language": "python",
   "name": "python3"
  },
  "language_info": {
   "codemirror_mode": {
    "name": "ipython",
    "version": 3
   },
   "file_extension": ".py",
   "mimetype": "text/x-python",
   "name": "python",
   "nbconvert_exporter": "python",
   "pygments_lexer": "ipython3",
   "version": "3.5.2"
  }
 },
 "nbformat": 4,
 "nbformat_minor": 4
}
